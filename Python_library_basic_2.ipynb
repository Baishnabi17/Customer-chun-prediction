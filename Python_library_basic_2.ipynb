{
  "nbformat": 4,
  "nbformat_minor": 0,
  "metadata": {
    "colab": {
      "provenance": [],
      "authorship_tag": "ABX9TyMJpnG2XqdUuL/9v5G8xtuO",
      "include_colab_link": true
    },
    "kernelspec": {
      "name": "python3",
      "display_name": "Python 3"
    },
    "language_info": {
      "name": "python"
    }
  },
  "cells": [
    {
      "cell_type": "markdown",
      "metadata": {
        "id": "view-in-github",
        "colab_type": "text"
      },
      "source": [
        "<a href=\"https://colab.research.google.com/github/Baishnabi17/Customer-chun-prediction/blob/main/Python_library_basic_2.ipynb\" target=\"_parent\"><img src=\"https://colab.research.google.com/assets/colab-badge.svg\" alt=\"Open In Colab\"/></a>"
      ]
    },
    {
      "cell_type": "markdown",
      "source": [
        "what is numpy -\n",
        "numpy is a powerful library used for\n",
        "fast numerical computations\n",
        "Handling large multi-dimensional\n",
        "useful in AI/ML ,data analysis,and scitific computation"
      ],
      "metadata": {
        "id": "ZtlLy4mV0AEh"
      }
    },
    {
      "cell_type": "code",
      "source": [
        "import numpy as np\n",
        "#create a ID array\n",
        "a=np.array([1,2,3])\n",
        "print(\"1D Array:\",a)\n"
      ],
      "metadata": {
        "colab": {
          "base_uri": "https://localhost:8080/"
        },
        "id": "UH7sAd6wxyFR",
        "outputId": "4a205b3d-dc55-4f57-8362-4a6130e4bcd0"
      },
      "execution_count": null,
      "outputs": [
        {
          "output_type": "stream",
          "name": "stdout",
          "text": [
            "1D Array: [1 2 3]\n"
          ]
        }
      ]
    },
    {
      "cell_type": "code",
      "source": [
        "#create a 2D arary(matrix)\n",
        "b=np.array([[1,2],[3,4],[4,8]])\n",
        "print(\"2D array:\\n\",b)\n",
        "\n"
      ],
      "metadata": {
        "colab": {
          "base_uri": "https://localhost:8080/"
        },
        "id": "4cT1sXaBxyCk",
        "outputId": "a3dfe83b-9a01-4cea-a1a9-b416f9f0e2a6"
      },
      "execution_count": null,
      "outputs": [
        {
          "output_type": "stream",
          "name": "stdout",
          "text": [
            "2D array:\n",
            " [[1 2]\n",
            " [3 4]\n",
            " [4 8]]\n"
          ]
        }
      ]
    },
    {
      "cell_type": "code",
      "source": [
        " print(\"shape:\",b.shape)\n",
        " print(\"size:\",b.size)\n",
        " print(\"Datatype:\",b.dtype)"
      ],
      "metadata": {
        "colab": {
          "base_uri": "https://localhost:8080/"
        },
        "id": "LJux6mOJxx_R",
        "outputId": "0ac53b7a-3781-46d2-cd26-05a9a32913ca"
      },
      "execution_count": null,
      "outputs": [
        {
          "output_type": "stream",
          "name": "stdout",
          "text": [
            "shape: (3, 2)\n",
            "size: 6\n",
            "Datatype: int64\n"
          ]
        }
      ]
    },
    {
      "cell_type": "code",
      "source": [
        "zeros=np.zeros((2,3))\n",
        "zeros"
      ],
      "metadata": {
        "colab": {
          "base_uri": "https://localhost:8080/"
        },
        "id": "CjBcBp19xx4t",
        "outputId": "02a85ddf-7712-4416-e604-02fce31c6dd3"
      },
      "execution_count": null,
      "outputs": [
        {
          "output_type": "execute_result",
          "data": {
            "text/plain": [
              "array([[0., 0., 0.],\n",
              "       [0., 0., 0.]])"
            ]
          },
          "metadata": {},
          "execution_count": 8
        }
      ]
    },
    {
      "cell_type": "code",
      "source": [
        "ones=np.ones((2,3))\n",
        "ones"
      ],
      "metadata": {
        "colab": {
          "base_uri": "https://localhost:8080/"
        },
        "id": "Sdk5c8hzxxyc",
        "outputId": "e3620d75-ba50-45c8-f367-93abae2fd400"
      },
      "execution_count": null,
      "outputs": [
        {
          "output_type": "execute_result",
          "data": {
            "text/plain": [
              "array([[1., 1., 1.],\n",
              "       [1., 1., 1.]])"
            ]
          },
          "metadata": {},
          "execution_count": 9
        }
      ]
    },
    {
      "cell_type": "code",
      "source": [
        "randoms=np.random.rand(2,2)\n",
        "randoms"
      ],
      "metadata": {
        "colab": {
          "base_uri": "https://localhost:8080/"
        },
        "id": "IUSuPpcSxxr4",
        "outputId": "d86785f5-2fbc-431c-8dd2-7960ecaea70b"
      },
      "execution_count": null,
      "outputs": [
        {
          "output_type": "execute_result",
          "data": {
            "text/plain": [
              "array([[0.52578503, 0.85457453],\n",
              "       [0.25698804, 0.09856632]])"
            ]
          },
          "metadata": {},
          "execution_count": 10
        }
      ]
    },
    {
      "cell_type": "code",
      "source": [
        "range_array=np.arange(0,10,2)\n",
        "range_array"
      ],
      "metadata": {
        "colab": {
          "base_uri": "https://localhost:8080/"
        },
        "id": "wU-3qdmFxxlN",
        "outputId": "489857af-5099-46dd-a678-3b7ba4c61909"
      },
      "execution_count": null,
      "outputs": [
        {
          "output_type": "execute_result",
          "data": {
            "text/plain": [
              "array([0, 2, 4, 6, 8])"
            ]
          },
          "metadata": {},
          "execution_count": 11
        }
      ]
    },
    {
      "cell_type": "code",
      "source": [
        "x=np.array([1,2,3])\n",
        "y=np.array([4,5,6])\n",
        "print(\"Addition:\",x+y)\n",
        "print(\"Subtraction:\",x-y)\n",
        "print(\"Multiplication:\",x*y)\n",
        "print(\"Dot product:\",x.dot(y))\n",
        "print(\"Dot product:\",np.dot(x,y))\n"
      ],
      "metadata": {
        "colab": {
          "base_uri": "https://localhost:8080/"
        },
        "id": "9_I8hK_Jxxe-",
        "outputId": "2ba8f39d-eb69-4a69-b890-bf3d1542b2af"
      },
      "execution_count": null,
      "outputs": [
        {
          "output_type": "stream",
          "name": "stdout",
          "text": [
            "Addition: [5 7 9]\n",
            "Subtraction: [-3 -3 -3]\n",
            "Multiplication: [ 4 10 18]\n",
            "Dot product: 32\n",
            "Dot product: 32\n"
          ]
        }
      ]
    },
    {
      "cell_type": "code",
      "source": [
        "arr=np.array([10,20,30,40,50])\n",
        "print(arr[0]) #first array\n",
        "print(arr[1:4])\n"
      ],
      "metadata": {
        "colab": {
          "base_uri": "https://localhost:8080/"
        },
        "id": "MKorOGJfxxY4",
        "outputId": "7647b342-2781-4581-b078-313fab8e0535"
      },
      "execution_count": null,
      "outputs": [
        {
          "output_type": "stream",
          "name": "stdout",
          "text": [
            "10\n",
            "[20 30 40]\n"
          ]
        }
      ]
    },
    {
      "cell_type": "code",
      "source": [
        "#1D,2D,3D arrays\n",
        "a=np.array([1,2,3])\n",
        "b=np.array([[1,2],[3,4]])\n",
        "c=np.array([[[1],[2]],[[3],[4]]])\n",
        "\n",
        "print(\"1D:\",a)\n",
        "print(\"2D:\\n\",b)\n",
        "print(\"3D:\\n\",c)\n",
        "print(type(c))\n"
      ],
      "metadata": {
        "colab": {
          "base_uri": "https://localhost:8080/"
        },
        "id": "tt3f_iEBxxSl",
        "outputId": "6c599f57-d260-4315-8380-04c28859fb2a"
      },
      "execution_count": null,
      "outputs": [
        {
          "output_type": "stream",
          "name": "stdout",
          "text": [
            "1D: [1 2 3]\n",
            "2D:\n",
            " [[1 2]\n",
            " [3 4]]\n",
            "3D:\n",
            " [[[1]\n",
            "  [2]]\n",
            "\n",
            " [[3]\n",
            "  [4]]]\n",
            "<class 'numpy.ndarray'>\n"
          ]
        }
      ]
    },
    {
      "cell_type": "code",
      "source": [
        "np.random.randint(1,10,(2,3))"
      ],
      "metadata": {
        "colab": {
          "base_uri": "https://localhost:8080/"
        },
        "id": "MR226AlAxxMJ",
        "outputId": "6f24f2fe-9105-4827-efd3-04595e2573be"
      },
      "execution_count": null,
      "outputs": [
        {
          "output_type": "execute_result",
          "data": {
            "text/plain": [
              "array([[1, 2, 1],\n",
              "       [5, 2, 9]])"
            ]
          },
          "metadata": {},
          "execution_count": 19
        }
      ]
    },
    {
      "cell_type": "code",
      "source": [
        "#Reshape & Flatten\n",
        "arr=np.array([[1,2,3],[4,5,6]])\n",
        "print(\"Reshape to 3*2:\\n\",arr.reshape(3,2))\n",
        "print(\"Flatten:\",arr.flatten())"
      ],
      "metadata": {
        "colab": {
          "base_uri": "https://localhost:8080/"
        },
        "id": "1VAS6c50xxFs",
        "outputId": "81c4c146-d010-4920-b863-a85f440b8072"
      },
      "execution_count": null,
      "outputs": [
        {
          "output_type": "stream",
          "name": "stdout",
          "text": [
            "Reshape to 3*2:\n",
            " [[1 2]\n",
            " [3 4]\n",
            " [5 6]]\n",
            "Flatten: [1 2 3 4 5 6]\n"
          ]
        }
      ]
    },
    {
      "cell_type": "code",
      "source": [
        "a=np.array([1,2])\n",
        "b=np.array([3,4])\n",
        "print(\"vertical stack:\\n\",np.vstack((a,b)))\n",
        "print(\"horizontal stack:\\n\",np.hstack((a,b)))\n"
      ],
      "metadata": {
        "colab": {
          "base_uri": "https://localhost:8080/"
        },
        "id": "U31qvgqlxw_K",
        "outputId": "6025ce89-a965-4300-a47b-0016a7de5a6a"
      },
      "execution_count": null,
      "outputs": [
        {
          "output_type": "stream",
          "name": "stdout",
          "text": [
            "vertical stack:\n",
            " [[1 2]\n",
            " [3 4]]\n",
            "horizontal stack:\n",
            " [1 2 3 4]\n"
          ]
        }
      ]
    },
    {
      "cell_type": "code",
      "source": [
        "arr=np.array([10,20,30,40,50])\n",
        "print(\"Greater than 30:\",arr[arr>30])\n",
        "print(\"Greater than 30:\",arr[arr==30])"
      ],
      "metadata": {
        "colab": {
          "base_uri": "https://localhost:8080/"
        },
        "id": "VCzb4k4pxw45",
        "outputId": "6bee03e2-7c45-4e22-c8a5-cff86ef2da71"
      },
      "execution_count": null,
      "outputs": [
        {
          "output_type": "stream",
          "name": "stdout",
          "text": [
            "Greater than 30: [40 50]\n",
            "Greater than 30: [30]\n"
          ]
        }
      ]
    },
    {
      "cell_type": "code",
      "source": [
        "arr=np.array([[1,2,3],[4,5,6]])\n",
        "\n",
        "print(\"Sum:\",np.sum(arr))\n",
        "print(\"Max:\",np.max(arr))\n",
        "print(\"min:\",np.min(arr))\n",
        "print(\"Mean\",np.mean(arr))\n",
        "print(\"Median:\",np.median(arr))\n",
        "print(\"Standard Deviation:\",np.std(arr))\n",
        "print(\"Variance:\",np.var(arr))\n",
        "print(\"Argmax:\",np.argmax(arr))\n",
        "print(\"Argmin:\",np.argmin(arr))"
      ],
      "metadata": {
        "colab": {
          "base_uri": "https://localhost:8080/"
        },
        "id": "Rn1-AdyDxu7G",
        "outputId": "fd5a8641-b4cd-4e64-89a4-194147ea0737"
      },
      "execution_count": null,
      "outputs": [
        {
          "output_type": "stream",
          "name": "stdout",
          "text": [
            "Sum: 21\n",
            "Max: 6\n",
            "min: 1\n",
            "Mean 3.5\n",
            "Median: 3.5\n",
            "Standard Deviation: 1.707825127659933\n",
            "Variance: 2.9166666666666665\n",
            "Argmax: 5\n",
            "Argmin: 0\n"
          ]
        }
      ]
    },
    {
      "cell_type": "code",
      "source": [
        "a=np.array([[1],[2],[3]])\n",
        "b=np.array([10,20,30])\n",
        "\n",
        "#Automatically expands shapes to match\n",
        "print(\"Broadcasted Addition:\\n\",a+b)"
      ],
      "metadata": {
        "colab": {
          "base_uri": "https://localhost:8080/"
        },
        "id": "2ducejCGxu1k",
        "outputId": "ca4c27b0-46bc-4c39-abae-96cc620e27f3"
      },
      "execution_count": null,
      "outputs": [
        {
          "output_type": "stream",
          "name": "stdout",
          "text": [
            "Broadcasted Addition:\n",
            " [[11 21 31]\n",
            " [12 22 32]\n",
            " [13 23 33]]\n"
          ]
        }
      ]
    },
    {
      "cell_type": "code",
      "source": [
        "#Q:Create a 3*3 matrix with value from 1 to 9 and find the sum of its diagonal\n",
        "#mat=np.array([[1,2,3],[4,5,6],[7,8,9]])\n",
        "mat=np.arange(1,10).reshape(3,3)\n",
        "print(\"Matrix:\\n\",mat)\n",
        "print(\"Diagonal Sum:\",np.trace(mat))"
      ],
      "metadata": {
        "colab": {
          "base_uri": "https://localhost:8080/"
        },
        "id": "M3P81fiZFgtV",
        "outputId": "563d7340-92cc-4631-c932-6d5261f4aef6"
      },
      "execution_count": null,
      "outputs": [
        {
          "output_type": "stream",
          "name": "stdout",
          "text": [
            "Matrix:\n",
            " [[1 2 3]\n",
            " [4 5 6]\n",
            " [7 8 9]]\n",
            "Diagonal Sum: 15\n"
          ]
        }
      ]
    },
    {
      "cell_type": "markdown",
      "source": [
        "Goal of the Code\n",
        "\n",
        "We're training an Artificial Neural Network (ANN) to learn the XOR logic gate, which cannot be solved by a single-layer perceptron (because it's not linearly separable). We’ll use Keras + TensorFlow for that.\n",
        "\n",
        "\n"
      ],
      "metadata": {
        "id": "wDcNpK1pa2gY"
      }
    },
    {
      "cell_type": "code",
      "source": [
        "import tensorflow as tf\n",
        "from tensorflow.keras.models import Sequential\n",
        "from tensorflow.keras.layers import Dense"
      ],
      "metadata": {
        "id": "ktcgLht5Fgpy"
      },
      "execution_count": null,
      "outputs": []
    },
    {
      "cell_type": "markdown",
      "source": [
        "tensorflow: The deep learning library used to build and train neural networks.\n",
        "\n",
        "Sequential: A linear stack of layers (input → hidden → output).\n",
        "\n",
        "Dense: Fully connected layer."
      ],
      "metadata": {
        "id": "8wt7lqxebKbx"
      }
    },
    {
      "cell_type": "code",
      "source": [
        "import numpy as np\n",
        "\n",
        "X = np.array([[0,0], [0,1], [1,0], [1,1]])  # Input data\n",
        "y = np.array([0, 1, 1, 0])                  # Output (XOR of inputs)\n"
      ],
      "metadata": {
        "id": "SU8w7S7ZFgne"
      },
      "execution_count": null,
      "outputs": []
    },
    {
      "cell_type": "markdown",
      "source": [
        "XOR Truth Table (Explained for Slide) XOR stands for \"Exclusive OR\".\n",
        "\n",
        "It returns 1 if exactly one of the inputs is 1.\n",
        "\n",
        "Returns 0 if both inputs are the same (either 0 and 0 or 1 and 1).\n",
        "\n",
        "You can explain like this with bullet points:\n",
        "\n",
        "✅ Input: 0, 0 → Output: 0 ✅ Input: 0, 1 → Output: 1 ✅ Input: 1, 0 → Output: 1 ✅ Input: 1, 1 → Output: 0\n",
        "\n",
        "\n",
        "\n"
      ],
      "metadata": {
        "id": "JKl7BA7BbxMP"
      }
    },
    {
      "cell_type": "code",
      "source": [
        "##Build the ANN Model\n",
        "model = Sequential() #You're using a Sequential model, meaning layers will be added one after the other."
      ],
      "metadata": {
        "id": "2z_I4EBkFgkY"
      },
      "execution_count": null,
      "outputs": []
    },
    {
      "cell_type": "code",
      "source": [
        "model.add(Dense(4, input_dim=2, activation='relu'))  # Hidden Layer"
      ],
      "metadata": {
        "id": "XUG8jF-VFgg7",
        "colab": {
          "base_uri": "https://localhost:8080/"
        },
        "outputId": "396855be-dea6-47c9-f771-a7d8b594be66"
      },
      "execution_count": null,
      "outputs": [
        {
          "output_type": "stream",
          "name": "stderr",
          "text": [
            "/usr/local/lib/python3.11/dist-packages/keras/src/layers/core/dense.py:87: UserWarning: Do not pass an `input_shape`/`input_dim` argument to a layer. When using Sequential models, prefer using an `Input(shape)` object as the first layer in the model instead.\n",
            "  super().__init__(activity_regularizer=activity_regularizer, **kwargs)\n"
          ]
        }
      ]
    },
    {
      "cell_type": "markdown",
      "source": [
        "Dense(4): Adds 4 neurons in the hidden layer.\n",
        "\n",
        "input_dim=2: Input has 2 features (since each XOR input is a pair).\n",
        "\n",
        "activation='relu': ReLU introduces non-linearity.\n",
        "\n",
        "Why 4 neurons? Just a small hidden layer to learn patterns. Enough for XOR, which needs at least one hidden layer.\n",
        "\n",
        "\n",
        "\n"
      ],
      "metadata": {
        "id": "tquJrr6ncTgd"
      }
    },
    {
      "cell_type": "code",
      "source": [
        "model.add(Dense(1, activation='sigmoid'))"
      ],
      "metadata": {
        "id": "-7KUAtgrcLyr"
      },
      "execution_count": null,
      "outputs": []
    },
    {
      "cell_type": "markdown",
      "source": [
        "Dense(1): Output layer has 1 neuron (since XOR gives 0 or 1).\n",
        "\n",
        "activation='sigmoid': Good for binary classification (outputs between 0 and 1).\n"
      ],
      "metadata": {
        "id": "j6Vmmbtlcc8u"
      }
    },
    {
      "cell_type": "code",
      "source": [
        "model.compile(loss='binary_crossentropy', optimizer='adam', metrics=['accuracy'])\n",
        "model.fit(X, y, epochs=500, verbose=0)"
      ],
      "metadata": {
        "colab": {
          "base_uri": "https://localhost:8080/"
        },
        "id": "pcIdQw-VcLvM",
        "outputId": "57c7cd0d-4786-431c-c285-b2c0f4238553"
      },
      "execution_count": null,
      "outputs": [
        {
          "output_type": "execute_result",
          "data": {
            "text/plain": [
              "<keras.src.callbacks.history.History at 0x7dc962722650>"
            ]
          },
          "metadata": {},
          "execution_count": 6
        }
      ]
    },
    {
      "cell_type": "markdown",
      "source": [
        "compile() → tells the model how to learn\n",
        "\n",
        "fit() → trains the model using input and output data\n",
        "\n",
        "loss → measures error\n",
        "\n",
        "optimizer → adjusts weights\n",
        "\n",
        "metrics → tracks performance\n",
        "\n",
        "epochs → how many times to train\n",
        "\n",
        "verbose → shows training output\n",
        "\n",
        "\n"
      ],
      "metadata": {
        "id": "cf2D5yMccmRq"
      }
    },
    {
      "cell_type": "code",
      "source": [],
      "metadata": {
        "id": "_Xa_eWD4cLsp"
      },
      "execution_count": null,
      "outputs": []
    },
    {
      "cell_type": "code",
      "source": [],
      "metadata": {
        "id": "KjhCczhFcLoa"
      },
      "execution_count": null,
      "outputs": []
    },
    {
      "cell_type": "code",
      "source": [],
      "metadata": {
        "id": "x8wyzQc0cLlC"
      },
      "execution_count": null,
      "outputs": []
    },
    {
      "cell_type": "code",
      "source": [],
      "metadata": {
        "id": "USnsRxelcLh0"
      },
      "execution_count": null,
      "outputs": []
    },
    {
      "cell_type": "code",
      "source": [],
      "metadata": {
        "id": "78MwuxdKcLeP"
      },
      "execution_count": null,
      "outputs": []
    },
    {
      "cell_type": "code",
      "source": [],
      "metadata": {
        "id": "DL6H_e1DcLbK"
      },
      "execution_count": null,
      "outputs": []
    }
  ]
}