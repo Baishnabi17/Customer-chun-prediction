{
  "nbformat": 4,
  "nbformat_minor": 0,
  "metadata": {
    "colab": {
      "provenance": [],
      "authorship_tag": "ABX9TyOcvF5yCLQNzF/0rc6RCN8e",
      "include_colab_link": true
    },
    "kernelspec": {
      "name": "python3",
      "display_name": "Python 3"
    },
    "language_info": {
      "name": "python"
    }
  },
  "cells": [
    {
      "cell_type": "markdown",
      "metadata": {
        "id": "view-in-github",
        "colab_type": "text"
      },
      "source": [
        "<a href=\"https://colab.research.google.com/github/Baishnabi17/Customer-chun-prediction/blob/main/NLP(natural_language_processing).ipynb\" target=\"_parent\"><img src=\"https://colab.research.google.com/assets/colab-badge.svg\" alt=\"Open In Colab\"/></a>"
      ]
    },
    {
      "cell_type": "code",
      "execution_count": 1,
      "metadata": {
        "colab": {
          "base_uri": "https://localhost:8080/"
        },
        "id": "uU1TLP6sJlYC",
        "outputId": "5660158f-17b6-4ac1-d032-5cc4676ee4e4"
      },
      "outputs": [
        {
          "output_type": "stream",
          "name": "stdout",
          "text": [
            "Found a match: am\n"
          ]
        }
      ],
      "source": [
        "import re\n",
        "\n",
        "text=\"i am a data scientist\"\n",
        "pattern=\"am\"\n",
        "\n",
        "match=re.search(pattern,text)\n",
        "if match:\n",
        "  print(\"Found a match:\",match.group())\n",
        "else:\n",
        "  print(\"no match found\")\n",
        ""
      ]
    },
    {
      "cell_type": "code",
      "source": [
        "#replace test\n",
        "text=\"i am a data analyst\"\n",
        "pattern=\"am\"\n",
        "replacement=\"scientist\"\n",
        "new_text=re.sub(pattern,replacement,text)\n",
        "print(\"original text:\",text)\n",
        "print(new_text,\"New text:\")"
      ],
      "metadata": {
        "colab": {
          "base_uri": "https://localhost:8080/"
        },
        "id": "GOAaz-ZYJmhg",
        "outputId": "e31735af-29c6-49c7-c9ff-dc08a4e83be3"
      },
      "execution_count": 2,
      "outputs": [
        {
          "output_type": "stream",
          "name": "stdout",
          "text": [
            "original text: i am a data analyst\n",
            "i scientist a data analyst New text:\n"
          ]
        }
      ]
    },
    {
      "cell_type": "code",
      "source": [
        "test1=\"Hey,this is best:for ! us\"\n",
        "\n",
        "print(\"This original string is:\"+test1)\n",
        "\n",
        "res=re.sub(r'[^\\w\\s]','',test1)\n",
        "\n",
        "#printing result\n",
        "print(\"The string after punctuation filter:\"+res)"
      ],
      "metadata": {
        "colab": {
          "base_uri": "https://localhost:8080/"
        },
        "id": "-uxKxIZnJmd6",
        "outputId": "515b8db1-5bba-4d75-94cd-ec00fdddc9bf"
      },
      "execution_count": 3,
      "outputs": [
        {
          "output_type": "stream",
          "name": "stdout",
          "text": [
            "This original string is:Hey,this is best:for ! us\n",
            "The string after punctuation filter:Heythis is bestfor  us\n"
          ]
        }
      ]
    },
    {
      "cell_type": "code",
      "source": [
        "import nltk\n",
        "nltk.download('punkt_tab')#download the punkt tokenizer  data\n",
        "\n",
        "text=\"This is an example sentence.Another sentence is here\"\n",
        "token=nltk.word_tokenize(text)\n",
        "print(token)"
      ],
      "metadata": {
        "colab": {
          "base_uri": "https://localhost:8080/"
        },
        "id": "3RRCTcEtJma1",
        "outputId": "f1416fcc-66e4-4659-9a0d-f10fb25a3044"
      },
      "execution_count": 8,
      "outputs": [
        {
          "output_type": "stream",
          "name": "stdout",
          "text": [
            "['This', 'is', 'an', 'example', 'sentence.Another', 'sentence', 'is', 'here']\n"
          ]
        },
        {
          "output_type": "stream",
          "name": "stderr",
          "text": [
            "[nltk_data] Downloading package punkt to /root/nltk_data...\n",
            "[nltk_data]   Package punkt is already up-to-date!\n"
          ]
        }
      ]
    },
    {
      "cell_type": "code",
      "source": [
        "text=\"This isn the sentense.This is the second sentence.And this is the third sentence.\"\n",
        "sentences=nltk.sent_tokenize(text)\n",
        "print(sentences)"
      ],
      "metadata": {
        "colab": {
          "base_uri": "https://localhost:8080/"
        },
        "id": "K3A_8IMLNTMM",
        "outputId": "8ab55f5e-9286-4815-f2ba-b407e31c2156"
      },
      "execution_count": 9,
      "outputs": [
        {
          "output_type": "stream",
          "name": "stdout",
          "text": [
            "['This isn the sentense.This is the second sentence.And this is the third sentence.']\n"
          ]
        }
      ]
    },
    {
      "cell_type": "code",
      "source": [
        "from nltk.util import ngrams\n",
        "\n",
        "text=\"The quick brown fox jumps over the lazy dog.\"\n",
        "\n",
        "#Tokenize the text into individual words\n",
        "token=nltk.word_tokenize(text)\n",
        "\n",
        "#Generate bigrams and trigrams from the tokens\n",
        "bigrams=list(ngrams(token,2))\n",
        "trigrams=list(ngrams(token,3))\n",
        "\n",
        "print(\"original text:\",text)\n",
        "print(\"\\nTokens:\",token)\n",
        "print(\"\\nBigrams:\",bigrams)\n",
        "print(\"\\nTrigrams:\",trigrams)\n",
        "\n",
        "\n"
      ],
      "metadata": {
        "colab": {
          "base_uri": "https://localhost:8080/"
        },
        "id": "-hrII3PPNTIn",
        "outputId": "772b8d93-381a-440a-b744-0af4e87341a5"
      },
      "execution_count": 11,
      "outputs": [
        {
          "output_type": "stream",
          "name": "stdout",
          "text": [
            "original text: The quick brown fox jumps over the lazy dog.\n",
            "\n",
            "Tokens: ['The', 'quick', 'brown', 'fox', 'jumps', 'over', 'the', 'lazy', 'dog', '.']\n",
            "\n",
            "Bigrams: [('The', 'quick'), ('quick', 'brown'), ('brown', 'fox'), ('fox', 'jumps'), ('jumps', 'over'), ('over', 'the'), ('the', 'lazy'), ('lazy', 'dog'), ('dog', '.')]\n",
            "\n",
            "Trigrams: [('The', 'quick', 'brown'), ('quick', 'brown', 'fox'), ('brown', 'fox', 'jumps'), ('fox', 'jumps', 'over'), ('jumps', 'over', 'the'), ('over', 'the', 'lazy'), ('the', 'lazy', 'dog'), ('lazy', 'dog', '.')]\n"
          ]
        }
      ]
    },
    {
      "cell_type": "code",
      "source": [
        "from nltk.stem import PorterStemmer\n",
        "stemmer=PorterStemmer()\n",
        "word=\"running\"\n",
        "stemmer_word=stemmer.stem(word)\n",
        "print(stemmer_word)#output:run"
      ],
      "metadata": {
        "colab": {
          "base_uri": "https://localhost:8080/"
        },
        "id": "pFpxmVE6NTF8",
        "outputId": "d1ddd549-2f23-472d-c12c-d97775e9acaf"
      },
      "execution_count": 12,
      "outputs": [
        {
          "output_type": "stream",
          "name": "stdout",
          "text": [
            "run\n"
          ]
        }
      ]
    },
    {
      "cell_type": "code",
      "source": [
        "import nltk\n",
        "nltk.download('omw-1.4')\n",
        "from nltk.stem import WordNetLemmatizer\n",
        "\n",
        "nltk.download('wordnet')#download the wordnet corpus\n",
        "\n",
        "lemmatizer=WordNetLemmatizer()\n",
        "\n",
        "word=\"running\"\n",
        "lemmatized_word=lemmatizer.lemmatize(word)#specify the part of speech as verb (v)\n",
        "\n",
        "print(lemmatized_word) #output run"
      ],
      "metadata": {
        "colab": {
          "base_uri": "https://localhost:8080/"
        },
        "id": "0gc3qyIKNTCv",
        "outputId": "f5d3ea80-8ab3-43dc-b099-46c2e9e13ea8"
      },
      "execution_count": 15,
      "outputs": [
        {
          "output_type": "stream",
          "name": "stderr",
          "text": [
            "[nltk_data] Downloading package omw-1.4 to /root/nltk_data...\n",
            "[nltk_data] Downloading package wordnet to /root/nltk_data...\n"
          ]
        },
        {
          "output_type": "stream",
          "name": "stdout",
          "text": [
            "running\n"
          ]
        }
      ]
    },
    {
      "cell_type": "code",
      "source": [
        "from nltk.corpus import stopwords\n",
        "\n",
        "nltk.download('stopwords') # Download the stop words corpus\n",
        "\n",
        "stop_words = set(stopwords.words('english'))\n",
        "\n",
        "text =\"this is an example sentence that includes stop words\"\n",
        "\n",
        "tokens=nltk.word_tokenize(text)\n",
        "\n",
        "filtered_tokens =[word for word in tokens if not word.lower() in stop_words]\n",
        "\n",
        "filtered_text = ''.join(filtered_tokens)\n",
        "\n",
        "print(\"data\",filtered_text) # Output: example sentence includes stop words"
      ],
      "metadata": {
        "colab": {
          "base_uri": "https://localhost:8080/"
        },
        "id": "cptJK8bTRnBF",
        "outputId": "6cb82b5e-fdc7-41c5-d459-81cc2b1426f3"
      },
      "execution_count": 23,
      "outputs": [
        {
          "output_type": "stream",
          "name": "stdout",
          "text": [
            "data examplesentenceincludesstopwords\n"
          ]
        },
        {
          "output_type": "stream",
          "name": "stderr",
          "text": [
            "[nltk_data] Downloading package stopwords to /root/nltk_data...\n",
            "[nltk_data]   Unzipping corpora/stopwords.zip.\n"
          ]
        }
      ]
    },
    {
      "cell_type": "code",
      "source": [
        "from nltk.tokenize import word_tokenize\n",
        "nltk.download('averaged_perceptron_tagger_eng')\n",
        "text = \"The quick brown fox jumps over the lazy dog.\"\n",
        "tokens=word_tokenize(text)\n",
        "pos_tags = nltk.pos_tag(tokens)\n",
        "print(pos_tags)\n",
        "\n"
      ],
      "metadata": {
        "colab": {
          "base_uri": "https://localhost:8080/"
        },
        "id": "Be-ZQC0wRm9f",
        "outputId": "3c45f343-3539-419e-9cd2-e408b0e50441"
      },
      "execution_count": 25,
      "outputs": [
        {
          "output_type": "stream",
          "name": "stderr",
          "text": [
            "[nltk_data] Downloading package averaged_perceptron_tagger_eng to\n",
            "[nltk_data]     /root/nltk_data...\n",
            "[nltk_data]   Unzipping taggers/averaged_perceptron_tagger_eng.zip.\n"
          ]
        },
        {
          "output_type": "stream",
          "name": "stdout",
          "text": [
            "[('The', 'DT'), ('quick', 'JJ'), ('brown', 'NN'), ('fox', 'NN'), ('jumps', 'VBZ'), ('over', 'IN'), ('the', 'DT'), ('lazy', 'JJ'), ('dog', 'NN'), ('.', '.')]\n"
          ]
        }
      ]
    },
    {
      "cell_type": "code",
      "source": [
        "#NER\n",
        "from nltk import pos_tag, ne_chunk\n",
        "nltk.download('maxent_ne_chunker_tab')\n",
        "nltk.download('words')\n",
        "#Define the text\n",
        "text = \"Apple is expected to launch its new iPhone in September at the Steve Jobs Theater in California.\"\n",
        "#Tokenize the text\n",
        "tokens=word_tokenize(text)\n",
        "#Perform part-of-speech tagging on the tokens\n",
        "tagged= pos_tag(tokens)\n",
        "#Perform named entity recognition on the tagged text\n",
        "ne=ne_chunk(tagged)\n",
        "\n",
        "#Print the named entities\n",
        "for chunk in ne:\n",
        "  if hasattr(chunk, 'label'):\n",
        "    print(chunk.label(),''.join(c[0] for c in chunk))"
      ],
      "metadata": {
        "colab": {
          "base_uri": "https://localhost:8080/"
        },
        "id": "WM-V3aD6Rm6u",
        "outputId": "7ed01a16-cd13-4e9b-e349-c3662540f971"
      },
      "execution_count": 29,
      "outputs": [
        {
          "output_type": "stream",
          "name": "stderr",
          "text": [
            "[nltk_data] Downloading package maxent_ne_chunker_tab to\n",
            "[nltk_data]     /root/nltk_data...\n",
            "[nltk_data]   Unzipping chunkers/maxent_ne_chunker_tab.zip.\n",
            "[nltk_data] Downloading package words to /root/nltk_data...\n",
            "[nltk_data]   Unzipping corpora/words.zip.\n"
          ]
        },
        {
          "output_type": "stream",
          "name": "stdout",
          "text": [
            "GPE Apple\n",
            "PERSON SteveJobs\n",
            "GPE California\n"
          ]
        }
      ]
    },
    {
      "cell_type": "code",
      "source": [
        "from nltk.sentiment import SentimentIntensityAnalyzer\n",
        "nltk.download('vader_lexicon')\n",
        "#Initialize the sentiment analyzer\n",
        "sid=SentimentIntensityAnalyzer()\n",
        "#sample text\n",
        "text=\"I hate this product! It would not work perfectly and I would definitely recommend it to anyone.\"\n",
        "#Compute the sentiment scores for the text\n",
        "scores=sid.polarity_scores(text)\n",
        "#Print the sentiment scores\n",
        "print(scores)\n"
      ],
      "metadata": {
        "colab": {
          "base_uri": "https://localhost:8080/"
        },
        "id": "O8ehITivWaj1",
        "outputId": "d22b94ac-564f-427c-d8cf-6f17b4dac9ab"
      },
      "execution_count": 31,
      "outputs": [
        {
          "output_type": "stream",
          "name": "stdout",
          "text": [
            "{'neg': 0.312, 'neu': 0.467, 'pos': 0.221, 'compound': -0.4871}\n"
          ]
        },
        {
          "output_type": "stream",
          "name": "stderr",
          "text": [
            "[nltk_data] Downloading package vader_lexicon to /root/nltk_data...\n",
            "[nltk_data]   Package vader_lexicon is already up-to-date!\n"
          ]
        }
      ]
    },
    {
      "cell_type": "code",
      "source": [],
      "metadata": {
        "id": "53MFMTQVWagT"
      },
      "execution_count": null,
      "outputs": []
    },
    {
      "cell_type": "code",
      "source": [],
      "metadata": {
        "id": "o2S5DeM4WadX"
      },
      "execution_count": null,
      "outputs": []
    },
    {
      "cell_type": "code",
      "source": [],
      "metadata": {
        "id": "FVilHJIkWaae"
      },
      "execution_count": null,
      "outputs": []
    }
  ]
}